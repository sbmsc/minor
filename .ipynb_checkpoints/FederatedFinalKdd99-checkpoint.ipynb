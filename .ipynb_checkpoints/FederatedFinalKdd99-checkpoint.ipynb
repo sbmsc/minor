{
 "cells": [
  {
   "cell_type": "code",
   "execution_count": 1,
   "metadata": {},
   "outputs": [
    {
     "data": {
      "text/plain": [
       "<torch._C.Generator at 0x157c8aa6250>"
      ]
     },
     "execution_count": 1,
     "metadata": {},
     "output_type": "execute_result"
    }
   ],
   "source": [
    "import torch\n",
    "import syft as sy\n",
    "import numpy as np\n",
    "import pandas as pd\n",
    "import matplotlib.pyplot as plt\n",
    "from torch.autograd import Variable\n",
    "from sklearn.model_selection import train_test_split\n",
    "from sklearn.metrics import classification_report, confusion_matrix\n",
    "from torch import optim\n",
    "from tqdm import tqdm\n",
    "device = torch.device(\"cuda\")\n",
    "torch.manual_seed(5)"
   ]
  },
  {
   "cell_type": "code",
   "execution_count": 2,
   "metadata": {},
   "outputs": [
    {
     "data": {
      "text/plain": [
       "True"
      ]
     },
     "execution_count": 2,
     "metadata": {},
     "output_type": "execute_result"
    }
   ],
   "source": [
    "torch.cuda.is_available()"
   ]
  },
  {
   "cell_type": "code",
   "execution_count": 3,
   "metadata": {},
   "outputs": [
    {
     "data": {
      "text/html": [
       "<div>\n",
       "<style scoped>\n",
       "    .dataframe tbody tr th:only-of-type {\n",
       "        vertical-align: middle;\n",
       "    }\n",
       "\n",
       "    .dataframe tbody tr th {\n",
       "        vertical-align: top;\n",
       "    }\n",
       "\n",
       "    .dataframe thead th {\n",
       "        text-align: right;\n",
       "    }\n",
       "</style>\n",
       "<table border=\"1\" class=\"dataframe\">\n",
       "  <thead>\n",
       "    <tr style=\"text-align: right;\">\n",
       "      <th></th>\n",
       "      <th>c1</th>\n",
       "      <th>c2</th>\n",
       "      <th>c3</th>\n",
       "      <th>c4</th>\n",
       "      <th>c5</th>\n",
       "      <th>c6</th>\n",
       "      <th>c7</th>\n",
       "      <th>c8</th>\n",
       "      <th>c9</th>\n",
       "      <th>c10</th>\n",
       "      <th>...</th>\n",
       "      <th>c21</th>\n",
       "      <th>c22</th>\n",
       "      <th>c23</th>\n",
       "      <th>c24</th>\n",
       "      <th>c25</th>\n",
       "      <th>c26</th>\n",
       "      <th>c27</th>\n",
       "      <th>c28</th>\n",
       "      <th>c29</th>\n",
       "      <th>j</th>\n",
       "    </tr>\n",
       "  </thead>\n",
       "  <tbody>\n",
       "    <tr>\n",
       "      <th>0</th>\n",
       "      <td>0.0</td>\n",
       "      <td>215.0</td>\n",
       "      <td>45076.0</td>\n",
       "      <td>0.0</td>\n",
       "      <td>1.0</td>\n",
       "      <td>0.0</td>\n",
       "      <td>0.0</td>\n",
       "      <td>0.0</td>\n",
       "      <td>0.0</td>\n",
       "      <td>0.0</td>\n",
       "      <td>...</td>\n",
       "      <td>0.0</td>\n",
       "      <td>0.0</td>\n",
       "      <td>0.0</td>\n",
       "      <td>0.00</td>\n",
       "      <td>0.0</td>\n",
       "      <td>0.0</td>\n",
       "      <td>0.0</td>\n",
       "      <td>0.0</td>\n",
       "      <td>0.0</td>\n",
       "      <td>n</td>\n",
       "    </tr>\n",
       "    <tr>\n",
       "      <th>1</th>\n",
       "      <td>0.0</td>\n",
       "      <td>162.0</td>\n",
       "      <td>4528.0</td>\n",
       "      <td>0.0</td>\n",
       "      <td>1.0</td>\n",
       "      <td>0.0</td>\n",
       "      <td>0.0</td>\n",
       "      <td>0.0</td>\n",
       "      <td>0.0</td>\n",
       "      <td>0.0</td>\n",
       "      <td>...</td>\n",
       "      <td>1.0</td>\n",
       "      <td>1.0</td>\n",
       "      <td>0.0</td>\n",
       "      <td>1.00</td>\n",
       "      <td>0.0</td>\n",
       "      <td>0.0</td>\n",
       "      <td>0.0</td>\n",
       "      <td>0.0</td>\n",
       "      <td>0.0</td>\n",
       "      <td>n</td>\n",
       "    </tr>\n",
       "    <tr>\n",
       "      <th>2</th>\n",
       "      <td>0.0</td>\n",
       "      <td>236.0</td>\n",
       "      <td>1228.0</td>\n",
       "      <td>0.0</td>\n",
       "      <td>1.0</td>\n",
       "      <td>0.0</td>\n",
       "      <td>0.0</td>\n",
       "      <td>0.0</td>\n",
       "      <td>0.0</td>\n",
       "      <td>0.0</td>\n",
       "      <td>...</td>\n",
       "      <td>2.0</td>\n",
       "      <td>1.0</td>\n",
       "      <td>0.0</td>\n",
       "      <td>0.50</td>\n",
       "      <td>0.0</td>\n",
       "      <td>0.0</td>\n",
       "      <td>0.0</td>\n",
       "      <td>0.0</td>\n",
       "      <td>0.0</td>\n",
       "      <td>n</td>\n",
       "    </tr>\n",
       "    <tr>\n",
       "      <th>3</th>\n",
       "      <td>0.0</td>\n",
       "      <td>233.0</td>\n",
       "      <td>2032.0</td>\n",
       "      <td>0.0</td>\n",
       "      <td>1.0</td>\n",
       "      <td>0.0</td>\n",
       "      <td>0.0</td>\n",
       "      <td>0.0</td>\n",
       "      <td>0.0</td>\n",
       "      <td>0.0</td>\n",
       "      <td>...</td>\n",
       "      <td>3.0</td>\n",
       "      <td>1.0</td>\n",
       "      <td>0.0</td>\n",
       "      <td>0.33</td>\n",
       "      <td>0.0</td>\n",
       "      <td>0.0</td>\n",
       "      <td>0.0</td>\n",
       "      <td>0.0</td>\n",
       "      <td>0.0</td>\n",
       "      <td>n</td>\n",
       "    </tr>\n",
       "    <tr>\n",
       "      <th>4</th>\n",
       "      <td>0.0</td>\n",
       "      <td>239.0</td>\n",
       "      <td>486.0</td>\n",
       "      <td>0.0</td>\n",
       "      <td>1.0</td>\n",
       "      <td>0.0</td>\n",
       "      <td>0.0</td>\n",
       "      <td>0.0</td>\n",
       "      <td>0.0</td>\n",
       "      <td>0.0</td>\n",
       "      <td>...</td>\n",
       "      <td>4.0</td>\n",
       "      <td>1.0</td>\n",
       "      <td>0.0</td>\n",
       "      <td>0.25</td>\n",
       "      <td>0.0</td>\n",
       "      <td>0.0</td>\n",
       "      <td>0.0</td>\n",
       "      <td>0.0</td>\n",
       "      <td>0.0</td>\n",
       "      <td>n</td>\n",
       "    </tr>\n",
       "  </tbody>\n",
       "</table>\n",
       "<p>5 rows × 30 columns</p>\n",
       "</div>"
      ],
      "text/plain": [
       "    c1     c2       c3   c4   c5   c6   c7   c8   c9  c10  ...  c21  c22  c23  \\\n",
       "0  0.0  215.0  45076.0  0.0  1.0  0.0  0.0  0.0  0.0  0.0  ...  0.0  0.0  0.0   \n",
       "1  0.0  162.0   4528.0  0.0  1.0  0.0  0.0  0.0  0.0  0.0  ...  1.0  1.0  0.0   \n",
       "2  0.0  236.0   1228.0  0.0  1.0  0.0  0.0  0.0  0.0  0.0  ...  2.0  1.0  0.0   \n",
       "3  0.0  233.0   2032.0  0.0  1.0  0.0  0.0  0.0  0.0  0.0  ...  3.0  1.0  0.0   \n",
       "4  0.0  239.0    486.0  0.0  1.0  0.0  0.0  0.0  0.0  0.0  ...  4.0  1.0  0.0   \n",
       "\n",
       "    c24  c25  c26  c27  c28  c29  j  \n",
       "0  0.00  0.0  0.0  0.0  0.0  0.0  n  \n",
       "1  1.00  0.0  0.0  0.0  0.0  0.0  n  \n",
       "2  0.50  0.0  0.0  0.0  0.0  0.0  n  \n",
       "3  0.33  0.0  0.0  0.0  0.0  0.0  n  \n",
       "4  0.25  0.0  0.0  0.0  0.0  0.0  n  \n",
       "\n",
       "[5 rows x 30 columns]"
      ]
     },
     "execution_count": 3,
     "metadata": {},
     "output_type": "execute_result"
    }
   ],
   "source": [
    "dataset =  pd.read_csv('kdd99.csv', header=None)\n",
    "dataset.columns = [\"c1\",\"c2\",\"c3\",\"c4\",\"c5\",\"c6\",\"c7\",\"c8\",\"c9\",\"c10\",\"c11\",\"c12\",\"c13\",\"c14\",\"c15\",\"c16\",\"c17\",\"c18\",\"c19\",\"c20\",\"c21\",\"c22\",\"c23\",\"c24\",\"c25\",\"c26\",\"c27\",\"c28\",\"c29\",\"j\"]\n",
    "dataset.head()"
   ]
  },
  {
   "cell_type": "code",
   "execution_count": 4,
   "metadata": {},
   "outputs": [],
   "source": [
    "dataset.replace({\"o\":0, \"n\":1}, inplace=True)"
   ]
  },
  {
   "cell_type": "code",
   "execution_count": 5,
   "metadata": {},
   "outputs": [],
   "source": [
    "dataset = (dataset - dataset.min())/(dataset.max() - dataset.min())"
   ]
  },
  {
   "cell_type": "code",
   "execution_count": 6,
   "metadata": {},
   "outputs": [
    {
     "data": {
      "text/html": [
       "<div>\n",
       "<style scoped>\n",
       "    .dataframe tbody tr th:only-of-type {\n",
       "        vertical-align: middle;\n",
       "    }\n",
       "\n",
       "    .dataframe tbody tr th {\n",
       "        vertical-align: top;\n",
       "    }\n",
       "\n",
       "    .dataframe thead th {\n",
       "        text-align: right;\n",
       "    }\n",
       "</style>\n",
       "<table border=\"1\" class=\"dataframe\">\n",
       "  <thead>\n",
       "    <tr style=\"text-align: right;\">\n",
       "      <th></th>\n",
       "      <th>c1</th>\n",
       "      <th>c2</th>\n",
       "      <th>c3</th>\n",
       "      <th>c4</th>\n",
       "      <th>c5</th>\n",
       "      <th>c6</th>\n",
       "      <th>c7</th>\n",
       "      <th>c8</th>\n",
       "      <th>c9</th>\n",
       "      <th>c10</th>\n",
       "      <th>...</th>\n",
       "      <th>c21</th>\n",
       "      <th>c22</th>\n",
       "      <th>c23</th>\n",
       "      <th>c24</th>\n",
       "      <th>c25</th>\n",
       "      <th>c26</th>\n",
       "      <th>c27</th>\n",
       "      <th>c28</th>\n",
       "      <th>c29</th>\n",
       "      <th>j</th>\n",
       "    </tr>\n",
       "  </thead>\n",
       "  <tbody>\n",
       "    <tr>\n",
       "      <th>0</th>\n",
       "      <td>0.0</td>\n",
       "      <td>0.003942</td>\n",
       "      <td>0.003843</td>\n",
       "      <td>0.0</td>\n",
       "      <td>1.0</td>\n",
       "      <td>0.0</td>\n",
       "      <td>0.0</td>\n",
       "      <td>0.0</td>\n",
       "      <td>0.0</td>\n",
       "      <td>0.0</td>\n",
       "      <td>...</td>\n",
       "      <td>0.000000</td>\n",
       "      <td>0.0</td>\n",
       "      <td>0.0</td>\n",
       "      <td>0.00</td>\n",
       "      <td>0.0</td>\n",
       "      <td>0.0</td>\n",
       "      <td>0.0</td>\n",
       "      <td>0.0</td>\n",
       "      <td>0.0</td>\n",
       "      <td>1.0</td>\n",
       "    </tr>\n",
       "    <tr>\n",
       "      <th>1</th>\n",
       "      <td>0.0</td>\n",
       "      <td>0.002970</td>\n",
       "      <td>0.000386</td>\n",
       "      <td>0.0</td>\n",
       "      <td>1.0</td>\n",
       "      <td>0.0</td>\n",
       "      <td>0.0</td>\n",
       "      <td>0.0</td>\n",
       "      <td>0.0</td>\n",
       "      <td>0.0</td>\n",
       "      <td>...</td>\n",
       "      <td>0.003922</td>\n",
       "      <td>1.0</td>\n",
       "      <td>0.0</td>\n",
       "      <td>1.00</td>\n",
       "      <td>0.0</td>\n",
       "      <td>0.0</td>\n",
       "      <td>0.0</td>\n",
       "      <td>0.0</td>\n",
       "      <td>0.0</td>\n",
       "      <td>1.0</td>\n",
       "    </tr>\n",
       "    <tr>\n",
       "      <th>2</th>\n",
       "      <td>0.0</td>\n",
       "      <td>0.004327</td>\n",
       "      <td>0.000105</td>\n",
       "      <td>0.0</td>\n",
       "      <td>1.0</td>\n",
       "      <td>0.0</td>\n",
       "      <td>0.0</td>\n",
       "      <td>0.0</td>\n",
       "      <td>0.0</td>\n",
       "      <td>0.0</td>\n",
       "      <td>...</td>\n",
       "      <td>0.007843</td>\n",
       "      <td>1.0</td>\n",
       "      <td>0.0</td>\n",
       "      <td>0.50</td>\n",
       "      <td>0.0</td>\n",
       "      <td>0.0</td>\n",
       "      <td>0.0</td>\n",
       "      <td>0.0</td>\n",
       "      <td>0.0</td>\n",
       "      <td>1.0</td>\n",
       "    </tr>\n",
       "    <tr>\n",
       "      <th>3</th>\n",
       "      <td>0.0</td>\n",
       "      <td>0.004272</td>\n",
       "      <td>0.000173</td>\n",
       "      <td>0.0</td>\n",
       "      <td>1.0</td>\n",
       "      <td>0.0</td>\n",
       "      <td>0.0</td>\n",
       "      <td>0.0</td>\n",
       "      <td>0.0</td>\n",
       "      <td>0.0</td>\n",
       "      <td>...</td>\n",
       "      <td>0.011765</td>\n",
       "      <td>1.0</td>\n",
       "      <td>0.0</td>\n",
       "      <td>0.33</td>\n",
       "      <td>0.0</td>\n",
       "      <td>0.0</td>\n",
       "      <td>0.0</td>\n",
       "      <td>0.0</td>\n",
       "      <td>0.0</td>\n",
       "      <td>1.0</td>\n",
       "    </tr>\n",
       "    <tr>\n",
       "      <th>4</th>\n",
       "      <td>0.0</td>\n",
       "      <td>0.004382</td>\n",
       "      <td>0.000041</td>\n",
       "      <td>0.0</td>\n",
       "      <td>1.0</td>\n",
       "      <td>0.0</td>\n",
       "      <td>0.0</td>\n",
       "      <td>0.0</td>\n",
       "      <td>0.0</td>\n",
       "      <td>0.0</td>\n",
       "      <td>...</td>\n",
       "      <td>0.015686</td>\n",
       "      <td>1.0</td>\n",
       "      <td>0.0</td>\n",
       "      <td>0.25</td>\n",
       "      <td>0.0</td>\n",
       "      <td>0.0</td>\n",
       "      <td>0.0</td>\n",
       "      <td>0.0</td>\n",
       "      <td>0.0</td>\n",
       "      <td>1.0</td>\n",
       "    </tr>\n",
       "  </tbody>\n",
       "</table>\n",
       "<p>5 rows × 30 columns</p>\n",
       "</div>"
      ],
      "text/plain": [
       "    c1        c2        c3   c4   c5   c6   c7   c8   c9  c10  ...       c21  \\\n",
       "0  0.0  0.003942  0.003843  0.0  1.0  0.0  0.0  0.0  0.0  0.0  ...  0.000000   \n",
       "1  0.0  0.002970  0.000386  0.0  1.0  0.0  0.0  0.0  0.0  0.0  ...  0.003922   \n",
       "2  0.0  0.004327  0.000105  0.0  1.0  0.0  0.0  0.0  0.0  0.0  ...  0.007843   \n",
       "3  0.0  0.004272  0.000173  0.0  1.0  0.0  0.0  0.0  0.0  0.0  ...  0.011765   \n",
       "4  0.0  0.004382  0.000041  0.0  1.0  0.0  0.0  0.0  0.0  0.0  ...  0.015686   \n",
       "\n",
       "   c22  c23   c24  c25  c26  c27  c28  c29    j  \n",
       "0  0.0  0.0  0.00  0.0  0.0  0.0  0.0  0.0  1.0  \n",
       "1  1.0  0.0  1.00  0.0  0.0  0.0  0.0  0.0  1.0  \n",
       "2  1.0  0.0  0.50  0.0  0.0  0.0  0.0  0.0  1.0  \n",
       "3  1.0  0.0  0.33  0.0  0.0  0.0  0.0  0.0  1.0  \n",
       "4  1.0  0.0  0.25  0.0  0.0  0.0  0.0  0.0  1.0  \n",
       "\n",
       "[5 rows x 30 columns]"
      ]
     },
     "execution_count": 6,
     "metadata": {},
     "output_type": "execute_result"
    }
   ],
   "source": [
    "dataset.head()"
   ]
  },
  {
   "cell_type": "code",
   "execution_count": 7,
   "metadata": {},
   "outputs": [
    {
     "data": {
      "text/plain": [
       "{0.0, 1.0}"
      ]
     },
     "execution_count": 7,
     "metadata": {},
     "output_type": "execute_result"
    }
   ],
   "source": [
    "set(dataset.j)"
   ]
  },
  {
   "cell_type": "code",
   "execution_count": 8,
   "metadata": {},
   "outputs": [],
   "source": [
    "X, y = Variable(torch.from_numpy(dataset[[cols for cols in dataset.columns if cols!='j']].values)).cuda(), Variable(torch.from_numpy(dataset.j.values)).cuda()"
   ]
  },
  {
   "cell_type": "code",
   "execution_count": 9,
   "metadata": {},
   "outputs": [],
   "source": [
    "data_client1 = dataset.sample(frac=0.5)\n",
    "data_client2 = dataset[~dataset.index.isin(data_client1.index)]"
   ]
  },
  {
   "cell_type": "code",
   "execution_count": 10,
   "metadata": {},
   "outputs": [],
   "source": [
    "features_client1, target_client1 = data_client1[[cols for cols in data_client1.columns if cols!='j']], data_client1.j\n",
    "features_client2, target_client2 = data_client2[[cols for cols in data_client2.columns if cols!='j']], data_client2.j"
   ]
  },
  {
   "cell_type": "code",
   "execution_count": 11,
   "metadata": {},
   "outputs": [],
   "source": [
    "x_client1 = Variable(torch.from_numpy(features_client1.values), requires_grad = False).cuda().float()\n",
    "x_client2 = Variable(torch.from_numpy(features_client2.values), requires_grad = False).cuda().float()\n",
    "\n",
    "y_client1 = Variable(torch.from_numpy(target_client1.values), requires_grad = False).cuda().float()\n",
    "y_client2 = Variable(torch.from_numpy(target_client2.values), requires_grad = False).cuda().float()"
   ]
  },
  {
   "cell_type": "code",
   "execution_count": 12,
   "metadata": {},
   "outputs": [],
   "source": [
    "def model(In_size, H_size=14):\n",
    "    if type(H_size) is not list:\n",
    "        model = torch.nn.Sequential(\n",
    "                    torch.nn.Linear(In_size, H_size),\n",
    "                    torch.nn.ReLU(),\n",
    "                    torch.nn.Linear(H_size, H_size),\n",
    "                    torch.nn.Tanh(),\n",
    "                    torch.nn.Linear(H_size, H_size),\n",
    "                    torch.nn.ReLU(),\n",
    "                    torch.nn.Linear(H_size, In_size))\n",
    "            \n",
    "    \n",
    "    return model\n",
    "    \n",
    "loss_fn = torch.nn.MSELoss(reduction='sum')"
   ]
  },
  {
   "cell_type": "code",
   "execution_count": 13,
   "metadata": {},
   "outputs": [
    {
     "name": "stderr",
     "output_type": "stream",
     "text": [
      "C:\\Users\\Shubham\\Anaconda3\\lib\\site-packages\\torch\\nn\\_reduction.py:43: UserWarning: size_average and reduce args will be deprecated, please use reduction='sum' instead.\n",
      "  warnings.warn(warning.format(ret))\n"
     ]
    }
   ],
   "source": [
    "auto_mod = model(dataset.shape[1] - 1, 14).cuda()\n",
    "\n",
    "opt_auto = optim.SGD(params=auto_mod.parameters(), lr=1e-5)\n",
    "loss_auto = torch.nn.MSELoss(size_average = False)"
   ]
  },
  {
   "cell_type": "code",
   "execution_count": 14,
   "metadata": {},
   "outputs": [
    {
     "name": "stdout",
     "output_type": "stream",
     "text": [
      "Sequential(\n",
      "  (0): Linear(in_features=29, out_features=14, bias=True)\n",
      "  (1): ReLU()\n",
      "  (2): Linear(in_features=14, out_features=14, bias=True)\n",
      "  (3): Tanh()\n",
      "  (4): Linear(in_features=14, out_features=14, bias=True)\n",
      "  (5): ReLU()\n",
      "  (6): Linear(in_features=14, out_features=29, bias=True)\n",
      ")\n"
     ]
    }
   ],
   "source": [
    "print(auto_mod)"
   ]
  },
  {
   "cell_type": "code",
   "execution_count": 15,
   "metadata": {},
   "outputs": [],
   "source": [
    "def classification_model(In_size, H_size=10, out_size=1):\n",
    "    model = torch.nn.Sequential(\n",
    "                    torch.nn.Linear(In_size, H_size),\n",
    "                    torch.nn.ReLU(),\n",
    "                    torch.nn.Linear(H_size, H_size),\n",
    "                    torch.nn.Tanh(),\n",
    "                    torch.nn.Linear(H_size, out_size),\n",
    "                    torch.nn.Sigmoid())\n",
    "    return model\n"
   ]
  },
  {
   "cell_type": "code",
   "execution_count": 16,
   "metadata": {},
   "outputs": [],
   "source": [
    "class_mod = classification_model(dataset.shape[1] - 1).cuda()\n",
    "opt_class = optim.SGD(params=class_mod.parameters(), lr=1e-5)\n",
    "loss_class = torch.nn.BCELoss().cuda()"
   ]
  },
  {
   "cell_type": "code",
   "execution_count": 17,
   "metadata": {},
   "outputs": [
    {
     "name": "stdout",
     "output_type": "stream",
     "text": [
      "Sequential(\n",
      "  (0): Linear(in_features=29, out_features=10, bias=True)\n",
      "  (1): ReLU()\n",
      "  (2): Linear(in_features=10, out_features=10, bias=True)\n",
      "  (3): Tanh()\n",
      "  (4): Linear(in_features=10, out_features=1, bias=True)\n",
      "  (5): Sigmoid()\n",
      ")\n"
     ]
    }
   ],
   "source": [
    "print(class_mod)"
   ]
  },
  {
   "cell_type": "code",
   "execution_count": 18,
   "metadata": {},
   "outputs": [],
   "source": [
    "hook = sy.TorchHook(torch)\n",
    "\n",
    "client_1 = sy.VirtualWorker(hook, id=\"client_1\")\n",
    "client_2 = sy.VirtualWorker(hook, id=\"client_2\")"
   ]
  },
  {
   "cell_type": "code",
   "execution_count": null,
   "metadata": {},
   "outputs": [],
   "source": [
    "epoch = 20\n",
    "batch_size= 256\n",
    "batches = []\n",
    "for i in range(0, len(x_client2), batch_size):\n",
    "    batches.append((x_client1[i:( i + batch_size)].send(client_1), y_client1[i:( i + batch_size)].send(client_1)))\n",
    "    batches.append((x_client2[i:( i + batch_size)].send(client_2), y_client2[i:( i + batch_size)].send(client_2)))"
   ]
  },
  {
   "cell_type": "code",
   "execution_count": null,
   "metadata": {
    "scrolled": true
   },
   "outputs": [],
   "source": [
    "for __ in range(epoch):\n",
    "    print('Epoch start\\n')\n",
    "    losses= []\n",
    "    \n",
    "    for batch in tqdm(batches):\n",
    "        \n",
    "        worker = batch[0].location\n",
    "        auto_mod.send(worker)\n",
    "        opt_auto.zero_grad()\n",
    "        pred = auto_mod(batch[0])\n",
    "        loss_val = loss_auto(pred, batch[0])\n",
    "        loss_val.backward()\n",
    "        \n",
    "        opt_auto.step()\n",
    "        auto_mod.get()\n",
    "        losses.append(loss_val.get())\n",
    "    \n",
    "    print(sum(losses)/len(losses))\n",
    "\n"
   ]
  },
  {
   "cell_type": "code",
   "execution_count": null,
   "metadata": {},
   "outputs": [],
   "source": [
    "x_client1 = auto_mod(Variable(torch.from_numpy(features_client1.values), requires_grad = False).cuda().float())\n",
    "x_client2 = auto_mod(Variable(torch.from_numpy(features_client2.values), requires_grad = False).cuda().float())"
   ]
  },
  {
   "cell_type": "code",
   "execution_count": null,
   "metadata": {},
   "outputs": [],
   "source": [
    "epoch = 20\n",
    "batch_size= 256\n",
    "batches = []\n",
    "for i in range(0, len(x_client2), batch_size):\n",
    "    batches.append((x_client1[i:( i + batch_size)].send(client_1), y_client1[i:( i + batch_size)].send(client_1)))\n",
    "    batches.append((x_client2[i:( i + batch_size)].send(client_2), y_client2[i:( i + batch_size)].send(client_2)))"
   ]
  },
  {
   "cell_type": "code",
   "execution_count": null,
   "metadata": {},
   "outputs": [],
   "source": [
    "for __ in range(epoch):\n",
    "    print('Epoch start\\n')\n",
    "    losses= []\n",
    "    for batch in tqdm(batches):\n",
    "        worker = batch[0].location\n",
    "        class_mod.send(worker)\n",
    "        opt_class.zero_grad()\n",
    "        pred = class_mod(batch[0])\n",
    "        loss_val = loss_class(pred, batch[1])\n",
    "        loss_val.backward()\n",
    "        opt_class.step()\n",
    "        class_mod.get()\n",
    "        losses.append(loss_val.get())\n",
    "    \n",
    "    print(sum(losses)/len(losses))\n",
    "\n"
   ]
  },
  {
   "cell_type": "code",
   "execution_count": null,
   "metadata": {},
   "outputs": [],
   "source": [
    "X = Variable(torch.from_numpy(dataset[[cols for cols in dataset.columns if cols!='j']].values.astype('float'))).cuda()"
   ]
  },
  {
   "cell_type": "code",
   "execution_count": null,
   "metadata": {},
   "outputs": [],
   "source": [
    "pred1 = np.array(class_mod(x_client1).cpu().detach())\n",
    "pred2 = np.array(class_mod(x_client2).cpu().detach())"
   ]
  },
  {
   "cell_type": "code",
   "execution_count": null,
   "metadata": {},
   "outputs": [],
   "source": [
    "pred = np.vstack([pred1.reshape(-1, 1), pred2.reshape(-1, 1)])\n",
    "pred = pred.reshape(-1,1)\n",
    "pred = (pred - pred.min())/(pred.max() - pred.min())\n",
    "pred[pred >= 0.5] = 1\n",
    "pred[pred < 0.5] = 0\n",
    "pred = pred.reshape(-1, 1)\n",
    "target = np.vstack([y_client1.cpu().numpy().reshape(-1, 1), y_client2.cpu().numpy().reshape(-1, 1)])"
   ]
  },
  {
   "cell_type": "code",
   "execution_count": null,
   "metadata": {},
   "outputs": [],
   "source": [
    "print(classification_report(pred, target))"
   ]
  },
  {
   "cell_type": "code",
   "execution_count": null,
   "metadata": {},
   "outputs": [],
   "source": [
    "mat = confusion_matrix(pred, target)"
   ]
  },
  {
   "cell_type": "code",
   "execution_count": null,
   "metadata": {},
   "outputs": [],
   "source": [
    "plt.matshow(mat)\n",
    "plt.colorbar()"
   ]
  },
  {
   "cell_type": "code",
   "execution_count": null,
   "metadata": {},
   "outputs": [],
   "source": [
    "losses = [x.item() for x in losses]"
   ]
  },
  {
   "cell_type": "code",
   "execution_count": null,
   "metadata": {},
   "outputs": [],
   "source": [
    "plt.plot(losses)\n",
    "plt.title(\"Loss vs iteration\")\n",
    "plt.xlabel('iterations')\n",
    "plt.ylabel('loss')"
   ]
  },
  {
   "cell_type": "code",
   "execution_count": null,
   "metadata": {},
   "outputs": [],
   "source": []
  }
 ],
 "metadata": {
  "kernelspec": {
   "display_name": "Python 3",
   "language": "python",
   "name": "python3"
  },
  "language_info": {
   "codemirror_mode": {
    "name": "ipython",
    "version": 3
   },
   "file_extension": ".py",
   "mimetype": "text/x-python",
   "name": "python",
   "nbconvert_exporter": "python",
   "pygments_lexer": "ipython3",
   "version": "3.7.3"
  }
 },
 "nbformat": 4,
 "nbformat_minor": 2
}
