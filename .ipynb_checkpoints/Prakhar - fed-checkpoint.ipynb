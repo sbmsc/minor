{
 "cells": [
  {
   "cell_type": "code",
   "execution_count": null,
   "metadata": {},
   "outputs": [],
   "source": [
    "import torch\n",
    "import syft as sy\n",
    "import numpy as np\n",
    "import pandas as pd\n",
    "import matplotlib.pyplot as plt\n",
    "from torch.autograd import Variable\n",
    "from sklearn.model_selection import train_test_split\n",
    "from sklearn.metrics import classification_report\n",
    "from torch import optim\n",
    "from tqdm import tqdm\n",
    "device = torch.device(\"cuda\")\n",
    "torch.manual_seed(5)"
   ]
  },
  {
   "cell_type": "code",
   "execution_count": null,
   "metadata": {},
   "outputs": [],
   "source": [
    "torch.cuda.is_available()"
   ]
  },
  {
   "cell_type": "code",
   "execution_count": null,
   "metadata": {},
   "outputs": [],
   "source": [
    "dataset =  pd.read_csv('shuttle-unsupervised-ad.csv', header=None)\n",
    "dataset.columns = [\"a\",'b','c','d', 'e', 'f' , 'g', 'h', 'i', 'j']\n",
    "dataset.head()"
   ]
  },
  {
   "cell_type": "code",
   "execution_count": null,
   "metadata": {},
   "outputs": [],
   "source": [
    "dataset.replace({\"o\":1, \"n\":0}, inplace=True)"
   ]
  },
  {
   "cell_type": "code",
   "execution_count": null,
   "metadata": {},
   "outputs": [],
   "source": [
    "dataset = (dataset - dataset.min())/(dataset.max() - dataset.min())"
   ]
  },
  {
   "cell_type": "code",
   "execution_count": null,
   "metadata": {},
   "outputs": [],
   "source": [
    "dataset.head()"
   ]
  },
  {
   "cell_type": "code",
   "execution_count": null,
   "metadata": {},
   "outputs": [],
   "source": [
    "X, y = Variable(torch.from_numpy(dataset[[cols for cols in dataset.columns if cols!='j']].values)).cuda(), Variable(torch.from_numpy(dataset.j.values)).cuda()"
   ]
  },
  {
   "cell_type": "code",
   "execution_count": null,
   "metadata": {},
   "outputs": [],
   "source": [
    "data_client1 = dataset.sample(frac=0.5)\n",
    "data_client2 = dataset[~dataset.index.isin(data_client1.index)]"
   ]
  },
  {
   "cell_type": "code",
   "execution_count": null,
   "metadata": {},
   "outputs": [],
   "source": [
    "features_client1, target_client1 = data_client1[[cols for cols in data_client1.columns if cols!='j']], data_client1.j\n",
    "features_client2, target_client2 = data_client2[[cols for cols in data_client2.columns if cols!='j']], data_client2.j"
   ]
  },
  {
   "cell_type": "code",
   "execution_count": null,
   "metadata": {},
   "outputs": [],
   "source": [
    "x_client1 = Variable(torch.from_numpy(features_client1.values), requires_grad = False).cuda().float()\n",
    "x_client2 = Variable(torch.from_numpy(features_client2.values), requires_grad = False).cuda().float()\n",
    "\n",
    "y_client1 = Variable(torch.from_numpy(target_client1.values), requires_grad = False).cuda().float()\n",
    "y_client2 = Variable(torch.from_numpy(target_client2.values), requires_grad = False).cuda().float()"
   ]
  },
  {
   "cell_type": "code",
   "execution_count": null,
   "metadata": {},
   "outputs": [],
   "source": [
    "def model(In_size, H_size=14):\n",
    "    if type(H_size) is not list:\n",
    "        model = torch.nn.Sequential(\n",
    "                    torch.nn.Linear(In_size, H_size),\n",
    "                    torch.nn.ReLU(),\n",
    "                    torch.nn.Linear(H_size, H_size),\n",
    "                    torch.nn.Tanh(),\n",
    "                    torch.nn.Linear(H_size, H_size),\n",
    "                    torch.nn.ReLU(),\n",
    "                    torch.nn.Linear(H_size, In_size))\n",
    "            \n",
    "    \n",
    "    return model\n",
    "    \n",
    "loss_fn = torch.nn.MSELoss(size_average = False)"
   ]
  },
  {
   "cell_type": "code",
   "execution_count": null,
   "metadata": {},
   "outputs": [],
   "source": [
    "auto_mod = model(dataset.shape[1] - 1, 14).cuda()\n",
    "\n",
    "opt_auto = optim.SGD(params=auto_mod.parameters(), lr=1e-5)\n",
    "loss_auto = torch.nn.MSELoss(size_average = False)"
   ]
  },
  {
   "cell_type": "code",
   "execution_count": null,
   "metadata": {},
   "outputs": [],
   "source": [
    "print(auto_mod)"
   ]
  },
  {
   "cell_type": "code",
   "execution_count": null,
   "metadata": {},
   "outputs": [],
   "source": [
    "def classification_model(In_size, H_size=10, out_size=1):\n",
    "    model = torch.nn.Sequential(\n",
    "                    torch.nn.Linear(In_size, H_size),\n",
    "                    torch.nn.ReLU(),\n",
    "                    torch.nn.Linear(H_size, H_size),\n",
    "                    torch.nn.Tanh(),\n",
    "                    torch.nn.Linear(H_size, out_size),\n",
    "                    torch.nn.Softmax(dim=1))\n",
    "    return model\n"
   ]
  },
  {
   "cell_type": "code",
   "execution_count": null,
   "metadata": {},
   "outputs": [],
   "source": [
    "class_mod = classification_model(dataset.shape[1] - 1).cuda()\n",
    "opt_class = optim.SGD(params=class_mod.parameters(), lr=1e-5)\n",
    "loss_class = torch.nn.BCELoss()"
   ]
  },
  {
   "cell_type": "code",
   "execution_count": null,
   "metadata": {},
   "outputs": [],
   "source": [
    "print(class_mod)"
   ]
  },
  {
   "cell_type": "code",
   "execution_count": null,
   "metadata": {},
   "outputs": [],
   "source": [
    "hook = sy.TorchHook(torch)\n",
    "\n",
    "client_1 = sy.VirtualWorker(hook, id=\"client_1\")\n",
    "client_2 = sy.VirtualWorker(hook, id=\"client_2\")"
   ]
  },
  {
   "cell_type": "code",
   "execution_count": null,
   "metadata": {},
   "outputs": [],
   "source": [
    "epoch = 2\n",
    "batch_size= 256\n",
    "batches = []\n",
    "for i in range(0, len(x_client2), batch_size):\n",
    "    batches.append((x_client1[i:( i + batch_size)].send(client_1), y_client1[i:( i + batch_size)].send(client_1)))\n",
    "    batches.append((x_client2[i:( i + batch_size)].send(client_2), y_client2[i:( i + batch_size)].send(client_2)))"
   ]
  },
  {
   "cell_type": "code",
   "execution_count": null,
   "metadata": {
    "scrolled": true
   },
   "outputs": [],
   "source": [
    "for __ in range(epoch):\n",
    "    print('Epoch start\\n')\n",
    "    losses= []\n",
    "    \n",
    "    for batch in tqdm(batches):\n",
    "        \n",
    "        worker = batch[0].location\n",
    "        auto_mod.send(worker)\n",
    "        opt_auto.zero_grad()\n",
    "        pred = auto_mod(batch[0])\n",
    "        loss_val = loss_auto(pred, batch[0])\n",
    "        loss_val.backward()\n",
    "\n",
    "        opt_auto.step()\n",
    "        auto_mod.get()\n",
    "        losses.append(loss_val.get())\n",
    "    \n",
    "    print(sum(losses)/len(losses))\n",
    "\n"
   ]
  },
  {
   "cell_type": "code",
   "execution_count": null,
   "metadata": {},
   "outputs": [],
   "source": [
    "x_client1 = auto_mod(Variable(torch.from_numpy(features_client1.values), requires_grad = False).cuda().float())\n",
    "x_client2 = auto_mod(Variable(torch.from_numpy(features_client2.values), requires_grad = False).cuda().float())\n"
   ]
  },
  {
   "cell_type": "code",
   "execution_count": null,
   "metadata": {},
   "outputs": [],
   "source": [
    "epoch = 2\n",
    "batch_size= 256\n",
    "batches = []\n",
    "for i in range(0, len(x_client2), batch_size):\n",
    "    batches.append((x_client1[i:( i + batch_size)].send(client_1), y_client1[i:( i + batch_size)].send(client_1)))\n",
    "    batches.append((x_client2[i:( i + batch_size)].send(client_2), y_client2[i:( i + batch_size)].send(client_2)))"
   ]
  },
  {
   "cell_type": "code",
   "execution_count": null,
   "metadata": {},
   "outputs": [],
   "source": [
    "for __ in range(epoch):\n",
    "    print('Epoch start\\n')\n",
    "    losses= []\n",
    "    \n",
    "    for batch in tqdm(batches):\n",
    "        \n",
    "        worker = batch[0].location\n",
    "        class_mod.send(worker)\n",
    "        opt_class.zero_grad()\n",
    "        pred = class_mod(batch[0])\n",
    "        loss_val = loss_class(pred, batch[1])\n",
    "        loss_val.backward()\n",
    "\n",
    "        opt_class.step()\n",
    "        class_mod.get()\n",
    "        losses.append(loss_val.get())\n",
    "    \n",
    "    print(sum(losses)/len(losses))\n",
    "\n"
   ]
  },
  {
   "cell_type": "code",
   "execution_count": null,
   "metadata": {},
   "outputs": [],
   "source": [
    "classification_report(class_mod(X), y)"
   ]
  },
  {
   "cell_type": "code",
   "execution_count": null,
   "metadata": {},
   "outputs": [],
   "source": []
  }
 ],
 "metadata": {
  "kernelspec": {
   "display_name": "Python 3",
   "language": "python",
   "name": "python3"
  },
  "language_info": {
   "codemirror_mode": {
    "name": "ipython",
    "version": 3
   },
   "file_extension": ".py",
   "mimetype": "text/x-python",
   "name": "python",
   "nbconvert_exporter": "python",
   "pygments_lexer": "ipython3",
   "version": "3.7.3"
  }
 },
 "nbformat": 4,
 "nbformat_minor": 2
}
